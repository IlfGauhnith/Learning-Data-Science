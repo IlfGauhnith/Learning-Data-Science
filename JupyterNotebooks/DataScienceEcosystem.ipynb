{
  "nbformat": 4,
  "nbformat_minor": 0,
  "metadata": {
    "colab": {
      "provenance": [],
      "authorship_tag": "ABX9TyNhtQx3r/3oSbBOStkWFYt6"
    },
    "kernelspec": {
      "name": "python3",
      "display_name": "Python 3"
    },
    "language_info": {
      "name": "python"
    }
  },
  "cells": [
    {
      "cell_type": "markdown",
      "source": [
        "# Data Science Tools and Ecosystem"
      ],
      "metadata": {
        "id": "dqZEQ0YwpeTL"
      }
    },
    {
      "cell_type": "markdown",
      "source": [
        "In this notebook, Data Science Tools and Ecosystem are summarized"
      ],
      "metadata": {
        "id": "KQk6mzIvp3Px"
      }
    },
    {
      "cell_type": "markdown",
      "source": [
        "**Objectives:**\n",
        "\n",
        "*   List popular languages for Data Science\n",
        "*   List popular libraries for Data Science\n",
        "*   List popular tools for Data Science\n",
        "*   Introduce to arithmetic expressions\n",
        "*   Demonstrate Jupyter Notebook Knowledge\n",
        "\n"
      ],
      "metadata": {
        "id": "vm5DlSktsnC4"
      }
    },
    {
      "cell_type": "markdown",
      "source": [
        "Some of the popular languages that Data Scientist use are:\n",
        "\n",
        "\n",
        "\n",
        "1.   Python\n",
        "2.   R\n",
        "3.   Java\n",
        "4.   Julia\n",
        "\n"
      ],
      "metadata": {
        "id": "ogsiK12qqFJI"
      }
    },
    {
      "cell_type": "markdown",
      "source": [
        "Some of the commonly used libraries used by Data Scientists include:\n",
        "\n",
        "1. pandas\n",
        "2. seaborn\n",
        "3. ggplot\n",
        "4. keras\n",
        "5. caret\n",
        "6. pytorch\n",
        "7. matplotlib\n",
        "8. numpy"
      ],
      "metadata": {
        "id": "rLXV2ayjqaku"
      }
    },
    {
      "cell_type": "markdown",
      "source": [
        "|Data Science Tools|\n",
        "|------------------|\n",
        "|RStudio|\n",
        "|Watson Studio|\n",
        "|Spyder|\n"
      ],
      "metadata": {
        "id": "FKUF07YLq5Q1"
      }
    },
    {
      "cell_type": "markdown",
      "source": [
        "### Below are a few examples of evaluating arithmetic expressions in Python"
      ],
      "metadata": {
        "id": "iW6nkZCIrznC"
      }
    },
    {
      "cell_type": "code",
      "source": [
        "# This is a simple arithmetic expression to multiply then add integers\n",
        "(3*4)+5"
      ],
      "metadata": {
        "colab": {
          "base_uri": "https://localhost:8080/"
        },
        "id": "FyulIo-Wr8Zx",
        "outputId": "1d087520-b229-4320-f274-1a6dadbb6142"
      },
      "execution_count": 2,
      "outputs": [
        {
          "output_type": "execute_result",
          "data": {
            "text/plain": [
              "17"
            ]
          },
          "metadata": {},
          "execution_count": 2
        }
      ]
    },
    {
      "cell_type": "code",
      "source": [
        "# This will convert 200 minutes to hours by dividing by 60\n",
        "200/60"
      ],
      "metadata": {
        "colab": {
          "base_uri": "https://localhost:8080/"
        },
        "id": "Mvp13EXjsJoB",
        "outputId": "cc9d95bf-a65a-499b-f12b-3ff07a614620"
      },
      "execution_count": 3,
      "outputs": [
        {
          "output_type": "execute_result",
          "data": {
            "text/plain": [
              "3.3333333333333335"
            ]
          },
          "metadata": {},
          "execution_count": 3
        }
      ]
    },
    {
      "cell_type": "markdown",
      "source": [
        "## Author\n",
        "Lucas Burle"
      ],
      "metadata": {
        "id": "AdJbyvJWtUCM"
      }
    }
  ]
}