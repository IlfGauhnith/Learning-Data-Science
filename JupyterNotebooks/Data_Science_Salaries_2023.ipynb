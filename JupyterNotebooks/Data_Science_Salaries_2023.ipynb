{
  "nbformat": 4,
  "nbformat_minor": 0,
  "metadata": {
    "colab": {
      "provenance": [],
      "collapsed_sections": [
        "zYCJhxIer1yS",
        "31mafwbhCiiW"
      ]
    },
    "kernelspec": {
      "name": "python3",
      "display_name": "Python 3"
    },
    "language_info": {
      "name": "python"
    }
  },
  "cells": [
    {
      "cell_type": "markdown",
      "source": [
        "# Introdução\n",
        "\n",
        "<br>\n",
        "\n",
        "Data Science está em ascensão globalmente no mercado de TI. Avanços em computação distribuída tem tornado viável a exploração dos vastos volumes de dados gerados diariamente com ferramentas como o Hadoop por exemplo. Métodos de Big Data são essenciais para tratar, analisar e obter informações desses conjuntos vastos de dados. Data Science é uma ferramenta imprescindível para tornar os negócios mais competitivos ao aprimorar significativamente a tomada de decisões estratégicas das organizações. \n",
        "<br>\n",
        "<br>\n",
        "São fascinantes os insights que aplicações de Data Science pode prover. A descoberta de padrões nos dados, a quantificação de relacionamentos entre determinadas variáveis de um problema, a predição de informações. Tudo isso tem um potencial incrível e diariamente tem afetado a sociedade de formas antes imaginadas apenas em obras de literatura fantastica (obras essas, Neuromancer de W. Gibson, que me fascinam igualmente diga-se de passagem).\n",
        "<br>\n",
        "Estou estudando Data Science avidamente. O curso da IBM na Coursera tem sido de extremamente valoroso. Este é meu primeiro Jupyter Notebook e nele vou demonstrar alguns conhecimentos de estatística e visualização de dados para analisar a base [Data Science Salaries 2023 - Kaggle](https://www.kaggle.com/datasets/arnabchaki/data-science-salaries-2023)."
      ],
      "metadata": {
        "id": "zYCJhxIer1yS"
      }
    },
    {
      "cell_type": "code",
      "source": [
        "import pandas as pd\n",
        "import numpy as np\n",
        "import seaborn as sns\n",
        "import matplotlib.pyplot as plt\n",
        "\n",
        "#sets the backend of matplotlib to the 'inline' backend\n",
        "%matplotlib inline\n",
        "sns.set(color_codes=True)"
      ],
      "metadata": {
        "id": "XTC0841ws515"
      },
      "execution_count": null,
      "outputs": []
    },
    {
      "cell_type": "markdown",
      "source": [
        "# Data integration and transformation\n"
      ],
      "metadata": {
        "id": "31mafwbhCiiW"
      }
    },
    {
      "cell_type": "code",
      "source": [
        "data_frame = pd.read_csv(\"/content/ds_salaries.csv\")\n",
        "data_frame.head(10)"
      ],
      "metadata": {
        "colab": {
          "base_uri": "https://localhost:8080/"
        },
        "id": "kd0GtjZS2pKK",
        "outputId": "bd27b800-c8d6-40d5-f0dd-1ec5e9e5474c"
      },
      "execution_count": null,
      "outputs": [
        {
          "output_type": "execute_result",
          "data": {
            "text/plain": [
              "   work_year experience_level employment_type                 job_title  \\\n",
              "0       2023               SE              FT  Principal Data Scientist   \n",
              "1       2023               MI              CT               ML Engineer   \n",
              "2       2023               MI              CT               ML Engineer   \n",
              "3       2023               SE              FT            Data Scientist   \n",
              "4       2023               SE              FT            Data Scientist   \n",
              "5       2023               SE              FT         Applied Scientist   \n",
              "6       2023               SE              FT         Applied Scientist   \n",
              "7       2023               SE              FT            Data Scientist   \n",
              "8       2023               SE              FT            Data Scientist   \n",
              "9       2023               SE              FT            Data Scientist   \n",
              "\n",
              "   salary salary_currency  salary_in_usd employee_residence  remote_ratio  \\\n",
              "0   80000             EUR          85847                 ES           100   \n",
              "1   30000             USD          30000                 US           100   \n",
              "2   25500             USD          25500                 US           100   \n",
              "3  175000             USD         175000                 CA           100   \n",
              "4  120000             USD         120000                 CA           100   \n",
              "5  222200             USD         222200                 US             0   \n",
              "6  136000             USD         136000                 US             0   \n",
              "7  219000             USD         219000                 CA             0   \n",
              "8  141000             USD         141000                 CA             0   \n",
              "9  147100             USD         147100                 US             0   \n",
              "\n",
              "  company_location company_size  \n",
              "0               ES            L  \n",
              "1               US            S  \n",
              "2               US            S  \n",
              "3               CA            M  \n",
              "4               CA            M  \n",
              "5               US            L  \n",
              "6               US            L  \n",
              "7               CA            M  \n",
              "8               CA            M  \n",
              "9               US            M  "
            ],
            "text/html": [
              "\n",
              "  <div id=\"df-74b93805-1761-4609-bafb-3ea173219f6e\">\n",
              "    <div class=\"colab-df-container\">\n",
              "      <div>\n",
              "<style scoped>\n",
              "    .dataframe tbody tr th:only-of-type {\n",
              "        vertical-align: middle;\n",
              "    }\n",
              "\n",
              "    .dataframe tbody tr th {\n",
              "        vertical-align: top;\n",
              "    }\n",
              "\n",
              "    .dataframe thead th {\n",
              "        text-align: right;\n",
              "    }\n",
              "</style>\n",
              "<table border=\"1\" class=\"dataframe\">\n",
              "  <thead>\n",
              "    <tr style=\"text-align: right;\">\n",
              "      <th></th>\n",
              "      <th>work_year</th>\n",
              "      <th>experience_level</th>\n",
              "      <th>employment_type</th>\n",
              "      <th>job_title</th>\n",
              "      <th>salary</th>\n",
              "      <th>salary_currency</th>\n",
              "      <th>salary_in_usd</th>\n",
              "      <th>employee_residence</th>\n",
              "      <th>remote_ratio</th>\n",
              "      <th>company_location</th>\n",
              "      <th>company_size</th>\n",
              "    </tr>\n",
              "  </thead>\n",
              "  <tbody>\n",
              "    <tr>\n",
              "      <th>0</th>\n",
              "      <td>2023</td>\n",
              "      <td>SE</td>\n",
              "      <td>FT</td>\n",
              "      <td>Principal Data Scientist</td>\n",
              "      <td>80000</td>\n",
              "      <td>EUR</td>\n",
              "      <td>85847</td>\n",
              "      <td>ES</td>\n",
              "      <td>100</td>\n",
              "      <td>ES</td>\n",
              "      <td>L</td>\n",
              "    </tr>\n",
              "    <tr>\n",
              "      <th>1</th>\n",
              "      <td>2023</td>\n",
              "      <td>MI</td>\n",
              "      <td>CT</td>\n",
              "      <td>ML Engineer</td>\n",
              "      <td>30000</td>\n",
              "      <td>USD</td>\n",
              "      <td>30000</td>\n",
              "      <td>US</td>\n",
              "      <td>100</td>\n",
              "      <td>US</td>\n",
              "      <td>S</td>\n",
              "    </tr>\n",
              "    <tr>\n",
              "      <th>2</th>\n",
              "      <td>2023</td>\n",
              "      <td>MI</td>\n",
              "      <td>CT</td>\n",
              "      <td>ML Engineer</td>\n",
              "      <td>25500</td>\n",
              "      <td>USD</td>\n",
              "      <td>25500</td>\n",
              "      <td>US</td>\n",
              "      <td>100</td>\n",
              "      <td>US</td>\n",
              "      <td>S</td>\n",
              "    </tr>\n",
              "    <tr>\n",
              "      <th>3</th>\n",
              "      <td>2023</td>\n",
              "      <td>SE</td>\n",
              "      <td>FT</td>\n",
              "      <td>Data Scientist</td>\n",
              "      <td>175000</td>\n",
              "      <td>USD</td>\n",
              "      <td>175000</td>\n",
              "      <td>CA</td>\n",
              "      <td>100</td>\n",
              "      <td>CA</td>\n",
              "      <td>M</td>\n",
              "    </tr>\n",
              "    <tr>\n",
              "      <th>4</th>\n",
              "      <td>2023</td>\n",
              "      <td>SE</td>\n",
              "      <td>FT</td>\n",
              "      <td>Data Scientist</td>\n",
              "      <td>120000</td>\n",
              "      <td>USD</td>\n",
              "      <td>120000</td>\n",
              "      <td>CA</td>\n",
              "      <td>100</td>\n",
              "      <td>CA</td>\n",
              "      <td>M</td>\n",
              "    </tr>\n",
              "    <tr>\n",
              "      <th>5</th>\n",
              "      <td>2023</td>\n",
              "      <td>SE</td>\n",
              "      <td>FT</td>\n",
              "      <td>Applied Scientist</td>\n",
              "      <td>222200</td>\n",
              "      <td>USD</td>\n",
              "      <td>222200</td>\n",
              "      <td>US</td>\n",
              "      <td>0</td>\n",
              "      <td>US</td>\n",
              "      <td>L</td>\n",
              "    </tr>\n",
              "    <tr>\n",
              "      <th>6</th>\n",
              "      <td>2023</td>\n",
              "      <td>SE</td>\n",
              "      <td>FT</td>\n",
              "      <td>Applied Scientist</td>\n",
              "      <td>136000</td>\n",
              "      <td>USD</td>\n",
              "      <td>136000</td>\n",
              "      <td>US</td>\n",
              "      <td>0</td>\n",
              "      <td>US</td>\n",
              "      <td>L</td>\n",
              "    </tr>\n",
              "    <tr>\n",
              "      <th>7</th>\n",
              "      <td>2023</td>\n",
              "      <td>SE</td>\n",
              "      <td>FT</td>\n",
              "      <td>Data Scientist</td>\n",
              "      <td>219000</td>\n",
              "      <td>USD</td>\n",
              "      <td>219000</td>\n",
              "      <td>CA</td>\n",
              "      <td>0</td>\n",
              "      <td>CA</td>\n",
              "      <td>M</td>\n",
              "    </tr>\n",
              "    <tr>\n",
              "      <th>8</th>\n",
              "      <td>2023</td>\n",
              "      <td>SE</td>\n",
              "      <td>FT</td>\n",
              "      <td>Data Scientist</td>\n",
              "      <td>141000</td>\n",
              "      <td>USD</td>\n",
              "      <td>141000</td>\n",
              "      <td>CA</td>\n",
              "      <td>0</td>\n",
              "      <td>CA</td>\n",
              "      <td>M</td>\n",
              "    </tr>\n",
              "    <tr>\n",
              "      <th>9</th>\n",
              "      <td>2023</td>\n",
              "      <td>SE</td>\n",
              "      <td>FT</td>\n",
              "      <td>Data Scientist</td>\n",
              "      <td>147100</td>\n",
              "      <td>USD</td>\n",
              "      <td>147100</td>\n",
              "      <td>US</td>\n",
              "      <td>0</td>\n",
              "      <td>US</td>\n",
              "      <td>M</td>\n",
              "    </tr>\n",
              "  </tbody>\n",
              "</table>\n",
              "</div>\n",
              "      <button class=\"colab-df-convert\" onclick=\"convertToInteractive('df-74b93805-1761-4609-bafb-3ea173219f6e')\"\n",
              "              title=\"Convert this dataframe to an interactive table.\"\n",
              "              style=\"display:none;\">\n",
              "        \n",
              "  <svg xmlns=\"http://www.w3.org/2000/svg\" height=\"24px\"viewBox=\"0 0 24 24\"\n",
              "       width=\"24px\">\n",
              "    <path d=\"M0 0h24v24H0V0z\" fill=\"none\"/>\n",
              "    <path d=\"M18.56 5.44l.94 2.06.94-2.06 2.06-.94-2.06-.94-.94-2.06-.94 2.06-2.06.94zm-11 1L8.5 8.5l.94-2.06 2.06-.94-2.06-.94L8.5 2.5l-.94 2.06-2.06.94zm10 10l.94 2.06.94-2.06 2.06-.94-2.06-.94-.94-2.06-.94 2.06-2.06.94z\"/><path d=\"M17.41 7.96l-1.37-1.37c-.4-.4-.92-.59-1.43-.59-.52 0-1.04.2-1.43.59L10.3 9.45l-7.72 7.72c-.78.78-.78 2.05 0 2.83L4 21.41c.39.39.9.59 1.41.59.51 0 1.02-.2 1.41-.59l7.78-7.78 2.81-2.81c.8-.78.8-2.07 0-2.86zM5.41 20L4 18.59l7.72-7.72 1.47 1.35L5.41 20z\"/>\n",
              "  </svg>\n",
              "      </button>\n",
              "      \n",
              "  <style>\n",
              "    .colab-df-container {\n",
              "      display:flex;\n",
              "      flex-wrap:wrap;\n",
              "      gap: 12px;\n",
              "    }\n",
              "\n",
              "    .colab-df-convert {\n",
              "      background-color: #E8F0FE;\n",
              "      border: none;\n",
              "      border-radius: 50%;\n",
              "      cursor: pointer;\n",
              "      display: none;\n",
              "      fill: #1967D2;\n",
              "      height: 32px;\n",
              "      padding: 0 0 0 0;\n",
              "      width: 32px;\n",
              "    }\n",
              "\n",
              "    .colab-df-convert:hover {\n",
              "      background-color: #E2EBFA;\n",
              "      box-shadow: 0px 1px 2px rgba(60, 64, 67, 0.3), 0px 1px 3px 1px rgba(60, 64, 67, 0.15);\n",
              "      fill: #174EA6;\n",
              "    }\n",
              "\n",
              "    [theme=dark] .colab-df-convert {\n",
              "      background-color: #3B4455;\n",
              "      fill: #D2E3FC;\n",
              "    }\n",
              "\n",
              "    [theme=dark] .colab-df-convert:hover {\n",
              "      background-color: #434B5C;\n",
              "      box-shadow: 0px 1px 3px 1px rgba(0, 0, 0, 0.15);\n",
              "      filter: drop-shadow(0px 1px 2px rgba(0, 0, 0, 0.3));\n",
              "      fill: #FFFFFF;\n",
              "    }\n",
              "  </style>\n",
              "\n",
              "      <script>\n",
              "        const buttonEl =\n",
              "          document.querySelector('#df-74b93805-1761-4609-bafb-3ea173219f6e button.colab-df-convert');\n",
              "        buttonEl.style.display =\n",
              "          google.colab.kernel.accessAllowed ? 'block' : 'none';\n",
              "\n",
              "        async function convertToInteractive(key) {\n",
              "          const element = document.querySelector('#df-74b93805-1761-4609-bafb-3ea173219f6e');\n",
              "          const dataTable =\n",
              "            await google.colab.kernel.invokeFunction('convertToInteractive',\n",
              "                                                     [key], {});\n",
              "          if (!dataTable) return;\n",
              "\n",
              "          const docLinkHtml = 'Like what you see? Visit the ' +\n",
              "            '<a target=\"_blank\" href=https://colab.research.google.com/notebooks/data_table.ipynb>data table notebook</a>'\n",
              "            + ' to learn more about interactive tables.';\n",
              "          element.innerHTML = '';\n",
              "          dataTable['output_type'] = 'display_data';\n",
              "          await google.colab.output.renderOutput(dataTable, element);\n",
              "          const docLink = document.createElement('div');\n",
              "          docLink.innerHTML = docLinkHtml;\n",
              "          element.appendChild(docLink);\n",
              "        }\n",
              "      </script>\n",
              "    </div>\n",
              "  </div>\n",
              "  "
            ]
          },
          "metadata": {},
          "execution_count": 93
        }
      ]
    },
    {
      "cell_type": "code",
      "source": [
        "data_frame.dtypes"
      ],
      "metadata": {
        "colab": {
          "base_uri": "https://localhost:8080/"
        },
        "id": "F0CAcLGh2-7P",
        "outputId": "d228532c-ab35-41e4-f19e-d24368c9d300"
      },
      "execution_count": null,
      "outputs": [
        {
          "output_type": "execute_result",
          "data": {
            "text/plain": [
              "work_year              int64\n",
              "experience_level      object\n",
              "employment_type       object\n",
              "job_title             object\n",
              "salary                 int64\n",
              "salary_currency       object\n",
              "salary_in_usd          int64\n",
              "employee_residence    object\n",
              "remote_ratio           int64\n",
              "company_location      object\n",
              "company_size          object\n",
              "dtype: object"
            ]
          },
          "metadata": {},
          "execution_count": 94
        }
      ]
    },
    {
      "cell_type": "code",
      "source": [
        "data_frame[data_frame.duplicated()].shape"
      ],
      "metadata": {
        "colab": {
          "base_uri": "https://localhost:8080/"
        },
        "id": "5Fsh5TPa5VT9",
        "outputId": "b40fca06-6373-4434-bd7f-9f3c4a453777"
      },
      "execution_count": null,
      "outputs": [
        {
          "output_type": "execute_result",
          "data": {
            "text/plain": [
              "(1171, 11)"
            ]
          },
          "metadata": {},
          "execution_count": 95
        }
      ]
    },
    {
      "cell_type": "markdown",
      "source": [
        "No contexto do dataset faz sentido que haja dados duplicados. É totalmente plausível que dois cientistas de dados em situações empregatícias semelhantes recebam o mesmo salário. **Portanto não removerei dados duplicados.**\n",
        "\n",
        "Usar pandas.core.frame.DataFrame.drop_duplicates() para dropar duplicatas."
      ],
      "metadata": {
        "id": "cqY952rY5czc"
      }
    },
    {
      "cell_type": "code",
      "source": [
        "data_frame.isnull().sum()"
      ],
      "metadata": {
        "colab": {
          "base_uri": "https://localhost:8080/"
        },
        "id": "cKcnjjWO3bBV",
        "outputId": "206e8616-c923-4f99-ed0f-37bf8981e6c5"
      },
      "execution_count": null,
      "outputs": [
        {
          "output_type": "execute_result",
          "data": {
            "text/plain": [
              "work_year             0\n",
              "experience_level      0\n",
              "employment_type       0\n",
              "job_title             0\n",
              "salary                0\n",
              "salary_currency       0\n",
              "salary_in_usd         0\n",
              "employee_residence    0\n",
              "remote_ratio          0\n",
              "company_location      0\n",
              "company_size          0\n",
              "dtype: int64"
            ]
          },
          "metadata": {},
          "execution_count": 96
        }
      ]
    },
    {
      "cell_type": "markdown",
      "source": [
        "**Não há dados faltantes.** Para o caso de haver dados faltantes há algumas ações diferentes a se tomar. É comum substituir os dados faltantes pela média da coluna em questão ou por uma média contextualizada. Dropar os registros que possuem dados faltantes também é uma opção. A ação mais apropriada a ser tomada depende inteiramente da natureza do problema e das características do dataset.\n",
        "\n",
        "Usar pandas.core.frame.DataFrame.dropna() para dropar registros que contenha valores nulo."
      ],
      "metadata": {
        "id": "EIOqf_ae6jaA"
      }
    },
    {
      "cell_type": "markdown",
      "source": [
        "# Outliers\n",
        "\n",
        "Outliers são valores aberrantes, que diferem muito dos outros valores da série, podem ser consequências de erros na coleta de dados ou da variância dos dados. Podem trazer prejuízos as interpretações estatísticas. Utilizarei de diagramas de caixa para visualizar os quartis e encontrar outliers."
      ],
      "metadata": {
        "id": "j3o8bgj3DOcr"
      }
    },
    {
      "cell_type": "code",
      "source": [
        "sns.boxplot(x=data_frame['salary_in_usd'])"
      ],
      "metadata": {
        "colab": {
          "base_uri": "https://localhost:8080/",
          "height": 476
        },
        "id": "nNEVKcHq7rqG",
        "outputId": "f7b8c25f-4a45-4e17-c75f-c91e2da846b4"
      },
      "execution_count": null,
      "outputs": [
        {
          "output_type": "execute_result",
          "data": {
            "text/plain": [
              "<Axes: xlabel='salary_in_usd'>"
            ]
          },
          "metadata": {},
          "execution_count": 97
        },
        {
          "output_type": "display_data",
          "data": {
            "text/plain": [
              "<Figure size 640x480 with 1 Axes>"
            ],
            "image/png": "[encoded data removed]"
          },
          "metadata": {}
        }
      ]
    },
    {
      "cell_type": "markdown",
      "source": [
        "Há outliers após o limite superior. Há ocorrência discrepantes de valores de salary_usd no intervalo [~295000, ~470000]. Devido a natureza do dataset, é razoável considerar que tais valores são referentes a salários de cientistas de dados altamente requisitados e não erros de coleta."
      ],
      "metadata": {
        "id": "tNGNYtDtFeFx"
      }
    },
    {
      "cell_type": "code",
      "source": [
        "sns.boxplot(x=data_frame['salary_in_usd'], y=data_frame['company_size'])"
      ],
      "metadata": {
        "colab": {
          "base_uri": "https://localhost:8080/",
          "height": 476
        },
        "id": "9LToGo4pKjPB",
        "outputId": "a8161049-777c-4488-850b-f38834eba80e"
      },
      "execution_count": null,
      "outputs": [
        {
          "output_type": "execute_result",
          "data": {
            "text/plain": [
              "<Axes: xlabel='salary_in_usd', ylabel='company_size'>"
            ]
          },
          "metadata": {},
          "execution_count": 98
        },
        {
          "output_type": "display_data",
          "data": {
            "text/plain": [
              "<Figure size 640x480 with 1 Axes>"
            ],
            "image/png": "[encoded data removed]"
          },
          "metadata": {}
        }
      ]
    },
    {
      "cell_type": "markdown",
      "source": [
        "A análise multivariável do diagrama de caixa acima apresenta alguns outliers que diferente da interpretação anterior podem ser considerados erros de coleta. Dificilmente uma empresa pequena seria capaz de pagar um salário já considerado altissímo no contexto de uma empresa mediana ou grande."
      ],
      "metadata": {
        "id": "TPXvc1wVKvr4"
      }
    },
    {
      "cell_type": "code",
      "source": [
        "fig, ax = plt.subplots(figsize=(10,6))\n",
        "ax.scatter(data_frame['salary_in_usd'], data_frame['company_size'])\n",
        "ax.set_xlabel('Salary in USD')\n",
        "ax.set_ylabel('Company Size')\n",
        "plt.show()"
      ],
      "metadata": {
        "colab": {
          "base_uri": "https://localhost:8080/",
          "height": 550
        },
        "id": "qCpWgsjRJ0lL",
        "outputId": "8391f233-4bf6-43b8-8baa-849978ab8fc2"
      },
      "execution_count": null,
      "outputs": [
        {
          "output_type": "display_data",
          "data": {
            "text/plain": [
              "<Figure size 1000x600 with 1 Axes>"
            ],
            "image/png": "[encoded data removed]"
          },
          "metadata": {}
        }
      ]
    },
    {
      "cell_type": "markdown",
      "source": [
        "A mesma interpretação pode ser aferida do scatter acima sobre organizações de pequeno porte."
      ],
      "metadata": {
        "id": "8NwgmpXTMfeT"
      }
    },
    {
      "cell_type": "code",
      "source": [
        "sns.boxplot(x=data_frame['salary_in_usd'], y=data_frame['experience_level'])"
      ],
      "metadata": {
        "colab": {
          "base_uri": "https://localhost:8080/",
          "height": 476
        },
        "id": "8KOGmx32MvOD",
        "outputId": "4342c848-353e-4945-cc03-0f0ebe665f67"
      },
      "execution_count": null,
      "outputs": [
        {
          "output_type": "execute_result",
          "data": {
            "text/plain": [
              "<Axes: xlabel='salary_in_usd', ylabel='experience_level'>"
            ]
          },
          "metadata": {},
          "execution_count": 100
        },
        {
          "output_type": "display_data",
          "data": {
            "text/plain": [
              "<Figure size 640x480 with 1 Axes>"
            ],
            "image/png": "[encoded data removed]"
          },
          "metadata": {}
        }
      ]
    },
    {
      "cell_type": "markdown",
      "source": [
        "A maioria dos outliers aferidos acima fazem total sentido com o contexto do dataset. A estritabilidade do teto de salário de um cientista de dados torna-se mais suave de acordo com o aumento de experiência.\n",
        "Existem dois pontos no gráfico bastante suspeitos de serem erros de coleta. Há um cientista de dados EX ganhando tanto quanto um SE, e há um SE que ganha menos que um EX, com certeza um erro de coleta."
      ],
      "metadata": {
        "id": "2jPjNbPKM69B"
      }
    },
    {
      "cell_type": "code",
      "source": [
        "Q1 = data_frame.quantile(0.25)\n",
        "print(\"Median of the first half\")\n",
        "print(Q1)\n",
        "print()\n",
        "\n",
        "Q3 = data_frame.quantile(0.75)\n",
        "print(\"Median of the second half\")\n",
        "print(Q3)\n",
        "print()\n",
        "\n",
        "IQR = Q3 - Q1\n",
        "print(\"Interquartile range\")\n",
        "print(IQR)"
      ],
      "metadata": {
        "colab": {
          "base_uri": "https://localhost:8080/"
        },
        "id": "LcQ6JEx7Qy2v",
        "outputId": "45adb07f-1e8a-42ef-83f7-31b98fe0debf"
      },
      "execution_count": null,
      "outputs": [
        {
          "output_type": "stream",
          "name": "stdout",
          "text": [
            "Median of the first half\n",
            "work_year          2022.0\n",
            "salary           100000.0\n",
            "salary_in_usd     95000.0\n",
            "remote_ratio          0.0\n",
            "Name: 0.25, dtype: float64\n",
            "\n",
            "Median of the second half\n",
            "work_year          2023.0\n",
            "salary           180000.0\n",
            "salary_in_usd    175000.0\n",
            "remote_ratio        100.0\n",
            "Name: 0.75, dtype: float64\n",
            "\n",
            "Interquartile range\n",
            "work_year            1.0\n",
            "salary           80000.0\n",
            "salary_in_usd    80000.0\n",
            "remote_ratio       100.0\n",
            "dtype: float64\n"
          ]
        },
        {
          "output_type": "stream",
          "name": "stderr",
          "text": [
            "<ipython-input-101-3bff442ed197>:1: FutureWarning: The default value of numeric_only in DataFrame.quantile is deprecated. In a future version, it will default to False. Select only valid columns or specify the value of numeric_only to silence this warning.\n",
            "  Q1 = data_frame.quantile(0.25)\n",
            "<ipython-input-101-3bff442ed197>:6: FutureWarning: The default value of numeric_only in DataFrame.quantile is deprecated. In a future version, it will default to False. Select only valid columns or specify the value of numeric_only to silence this warning.\n",
            "  Q3 = data_frame.quantile(0.75)\n"
          ]
        }
      ]
    },
    {
      "cell_type": "markdown",
      "source": [
        "Acima o cálculo da amplitude interquartil. A amplitude interquartil é justamente o range da caixa central do diagrama de caixa. "
      ],
      "metadata": {
        "id": "_qiFDfXVTcEF"
      }
    },
    {
      "cell_type": "code",
      "source": [
        "data_frame.shape"
      ],
      "metadata": {
        "colab": {
          "base_uri": "https://localhost:8080/"
        },
        "id": "lZHnHqDJT55L",
        "outputId": "be50541f-b9cc-4c21-d583-541546f36636"
      },
      "execution_count": null,
      "outputs": [
        {
          "output_type": "execute_result",
          "data": {
            "text/plain": [
              "(3755, 11)"
            ]
          },
          "metadata": {},
          "execution_count": 102
        }
      ]
    },
    {
      "cell_type": "markdown",
      "source": [
        "Antes da remoção de outliers utilizando IQR."
      ],
      "metadata": {
        "id": "Bw_aPUwsUTlB"
      }
    },
    {
      "cell_type": "code",
      "source": [
        "data_frame = data_frame[~((data_frame < (Q1 - 1.5 * IQR)) |(data_frame > (Q3 + 1.5 * IQR))).any(axis=1)]\n",
        "data_frame.shape"
      ],
      "metadata": {
        "colab": {
          "base_uri": "https://localhost:8080/"
        },
        "id": "7GMe7rWwUXv5",
        "outputId": "d33c40b2-e9eb-4e91-afda-de807902e960"
      },
      "execution_count": null,
      "outputs": [
        {
          "output_type": "stream",
          "name": "stderr",
          "text": [
            "<ipython-input-103-d04a1c29e6d5>:1: FutureWarning: Automatic reindexing on DataFrame vs Series comparisons is deprecated and will raise ValueError in a future version. Do `left, right = left.align(right, axis=1, copy=False)` before e.g. `left == right`\n",
            "  data_frame = data_frame[~((data_frame < (Q1 - 1.5 * IQR)) |(data_frame > (Q3 + 1.5 * IQR))).any(axis=1)]\n"
          ]
        },
        {
          "output_type": "execute_result",
          "data": {
            "text/plain": [
              "(3557, 11)"
            ]
          },
          "metadata": {},
          "execution_count": 103
        }
      ]
    },
    {
      "cell_type": "markdown",
      "source": [
        "Depois da remoção de outliers utilizando IQR.\n",
        "\n",
        "198 outliers foram removidos."
      ],
      "metadata": {
        "id": "wNNzfW62UgCB"
      }
    },
    {
      "cell_type": "code",
      "source": [
        "sns.boxplot(x=data_frame['salary_in_usd'])"
      ],
      "metadata": {
        "colab": {
          "base_uri": "https://localhost:8080/",
          "height": 476
        },
        "id": "57aLMr1PUp_n",
        "outputId": "0478cb22-c018-4085-afc2-5bf0907f6a87"
      },
      "execution_count": null,
      "outputs": [
        {
          "output_type": "execute_result",
          "data": {
            "text/plain": [
              "<Axes: xlabel='salary_in_usd'>"
            ]
          },
          "metadata": {},
          "execution_count": 104
        },
        {
          "output_type": "display_data",
          "data": {
            "text/plain": [
              "<Figure size 640x480 with 1 Axes>"
            ],
            "image/png": "[encoded data removed]"
          },
          "metadata": {}
        }
      ]
    },
    {
      "cell_type": "markdown",
      "source": [
        "Para fins didáticos removi outliers indiscriminadamente, independente da interpretação sobre serem erros de coleta ou variância natural do dataset. Não sei como faria para remover levando em consideração minhas interpretações. Mas tenho algumas ideias:\n",
        "\n",
        "Uma possibilidade viável é alterar o valor '1.5', do trecho de código que aplica a técnica de remoção por IQR, que dimensiona o intervalo em que um valor será considerado um outlier proveniente de erro. \n",
        "\n",
        "Por exemplo:<br> `data_frame = data_frame[~((data_frame < (Q1 - 1.5 * IQR)) |(data_frame > (Q3 + 2.5 * IQR))).any(axis=1)]`\n",
        "<br>\n",
        "Dessa forma o intervalo que checa outliers após o terceiro quartil seria maior, permitindo assim outliers maiores após o limite superior.\n",
        "\n",
        "Porém seria preciso também avaliar esses outliers coluna por coluna, com uma alteração específica no cálculo para cada uma. E mais interessante ainda seria tratar os outliers observando relações multivariáveis, como na análise anterior entre 'salary_in_usd' e 'company_size'."
      ],
      "metadata": {
        "id": "ipEupmEtU5hO"
      }
    }
  ]
}