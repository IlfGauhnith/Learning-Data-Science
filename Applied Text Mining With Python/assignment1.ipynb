{
 "cells": [
  {
   "cell_type": "markdown",
   "metadata": {
    "deletable": false,
    "editable": false,
    "nbgrader": {
     "cell_type": "markdown",
     "checksum": "ec8ef6131742cfe7cbfc4f02a34ca107",
     "grade": false,
     "grade_id": "cell-8a754c8ce8a16eeb",
     "locked": true,
     "schema_version": 3,
     "solution": false,
     "task": false
    }
   },
   "source": [
    "# Assignment 1\n",
    "\n",
    "In this assignment, you'll be working with messy medical data and using regex to extract relevant infromation from the data. \n",
    "\n",
    "Each line of the `dates.txt` file corresponds to a medical note. Each note has a date that needs to be extracted, but each date is encoded in one of many formats.\n",
    "\n",
    "The goal of this assignment is to correctly identify all of the different date variants encoded in this dataset and to properly normalize and sort the dates. \n",
    "\n",
    "Here is a list of some of the variants you might encounter in this dataset:\n",
    "* 04/20/2009; 04/20/09; 4/20/09; 4/3/09\n",
    "* Mar-20-2009; Mar 20, 2009; March 20, 2009;  Mar. 20, 2009; Mar 20 2009;\n",
    "* 20 Mar 2009; 20 March 2009; 20 Mar. 2009; 20 March, 2009\n",
    "* Mar 20th, 2009; Mar 21st, 2009; Mar 22nd, 2009\n",
    "* Feb 2009; Sep 2009; Oct 2010\n",
    "* 6/2008; 12/2009\n",
    "* 2009; 2010\n",
    "\n",
    "Once you have extracted these date patterns from the text, the next step is to sort them in ascending chronological order accoring to the following rules:\n",
    "* Assume all dates in xx/xx/xx format are mm/dd/yy\n",
    "* Assume all dates where year is encoded in only two digits are years from the 1900's (e.g. 1/5/89 is January 5th, 1989)\n",
    "* If the day is missing (e.g. 9/2009), assume it is the first day of the month (e.g. September 1, 2009).\n",
    "* If the month is missing (e.g. 2010), assume it is the first of January of that year (e.g. January 1, 2010).\n",
    "* Watch out for potential typos as this is a raw, real-life derived dataset.\n",
    "\n",
    "With these rules in mind, find the correct date in each note and return a pandas Series in chronological order of the original Series' indices. This Series should be sorted by a tie-break sort in the format of (\"extracted date\", \"original row number\").\n",
    "\n",
    "For example if the original series was this:\n",
    "\n",
    "    0    1999\n",
    "    1    2010\n",
    "    2    1978\n",
    "    3    2015\n",
    "    4    1985\n",
    "\n",
    "Your function should return this:\n",
    "\n",
    "    0    2\n",
    "    1    4\n",
    "    2    0\n",
    "    3    1\n",
    "    4    3\n",
    "\n",
    "Your score will be calculated using [Kendall's tau](https://en.wikipedia.org/wiki/Kendall_rank_correlation_coefficient), a correlation measure for ordinal data.\n",
    "\n",
    "*This function should return a Series of length 500 and dtype int.*"
   ]
  },
  {
   "cell_type": "code",
   "execution_count": null,
   "metadata": {
    "deletable": false,
    "editable": false,
    "nbgrader": {
     "cell_type": "code",
     "checksum": "4b47ce38a503bfb1f113580f394d8667",
     "grade": false,
     "grade_id": "cell-28048f36edc32946",
     "locked": true,
     "schema_version": 3,
     "solution": false,
     "task": false
    }
   },
   "outputs": [],
   "source": [
    "import pandas as pd\n",
    "\n",
    "doc = []\n",
    "with open('assets/dates.txt') as file:\n",
    "    for line in file:\n",
    "        doc.append(line)\n",
    "\n",
    "df = pd.Series(doc)\n",
    "df.head(10)"
   ]
  },
  {
   "cell_type": "code",
   "execution_count": null,
   "metadata": {},
   "outputs": [],
   "source": [
    "# With set(date_sorter().index) ^ set([x for x in range(0, 500)]) I found the missing lines\n",
    "# Missing lines ->\n",
    "# 25: 4-13-82 Other Child Mental Health Outcomes Scales Used\n",
    "# 39: 1-14-81 Communication with referring physician?: Done\n",
    "# 40: 7-29-75 CPT Code: 90801 - Psychiatric Diagnosis Interview\n",
    "# 71: 4-13-89 Communication with referring physician?: Not Done\n",
    "\n",
    "# Rows duplicating ->\n",
    "# 11: (5/11/85) Crt-1.96, BUN-26; AST/ALT-16/22; WBC_12.6Activities of Daily Living (ADL) Bathing: Independent\n",
    "# 73: Lithium 0.25 (7/11/77).  LFTS wnl.  Urine tox neg.  Serum tox + fluoxetine 500; otherwise neg.  TSH 3.28.  BUN/Cr: 16/0.83.  Lipids unremarkable.  B12 363, Folate >20.  CBC: 4.9/36/308 Pertinent Medical Review of Systems Constitutional:"
   ]
  },
  {
   "cell_type": "code",
   "execution_count": 186,
   "metadata": {
    "deletable": false,
    "nbgrader": {
     "cell_type": "code",
     "checksum": "3e58e227860ae4b02d6bdddd81506787",
     "grade": false,
     "grade_id": "cell-d6f35a51303ed6ff",
     "locked": false,
     "schema_version": 3,
     "solution": true,
     "task": false
    }
   },
   "outputs": [],
   "source": [
    "def date_sorter():\n",
    "    import re\n",
    "    import pandas as pd\n",
    "\n",
    "    doc = []\n",
    "    with open('assets/dates.txt') as file:\n",
    "        for line in file:\n",
    "            doc.append(line)\n",
    "\n",
    "    df = pd.Series(doc)\n",
    "    \n",
    "\n",
    "    date_pattern = \"\"\"\n",
    "    (\n",
    "    \n",
    "    # date in format: <04/20/2009, 04/20/09, 4/20/09, 4/3/09>\n",
    "    (?:\\d{1,2}[/-]\\d{1,2}[/-]\\d{2,4})\n",
    "    |\n",
    "    \n",
    "    # date in format <Mar-20-2009; Mar 20, 2009; March 20, 2009; Mar. 20, 2009; Mar 20 2009>\n",
    "    (?:(?:Jan|Feb|Mar|Apr|May|Jun|Jul|Aug|Sep|Oct|Nov|Dec)[a-z]*\\.*[-\\s]?\\d{1,2},*\\s\\d{2,4})\n",
    "    |\n",
    "    \n",
    "    # date in format <20 Mar 2009; 20 March 2009; 20 Mar. 2009; 20 March, 2009>\n",
    "    (?:\\d{1,2}\\s(?:Jan|Feb|Mar|Apr|May|Jun|Jul|Aug|Sep|Oct|Nov|Dec)[a-z]*\\.*,*\\s\\d{2,4})\n",
    "    |\n",
    "    \n",
    "    # date in format <Mar 20th, 2009; Mar 21st, 2009; Mar 22nd, 2009>\n",
    "    (?:(?:Jan|Feb|Mar|Apr|May|Jun|Jul|Aug|Sep|Oct|Nov|Dec)[a-z]*\\s\\d{1,2}(?:th|st|nd),*\\s\\d{2,4})\n",
    "    |\n",
    "    \n",
    "    # date in format <Feb 2009; Sep 2009; Oct 2010>\n",
    "    (?:(?:Jan|Feb|Mar|Apr|May|Jun|Jul|Aug|Sep|Oct|Nov|Dec)[a-z]*,*\\s\\d{2,4})\n",
    "    |\n",
    "    \n",
    "    # date in format <6/2008; 12/2009>\n",
    "    (?:\\d{1,2}/\\d{2,4})\n",
    "    |\n",
    "    \n",
    "    # date in format 2009; 2010\n",
    "    (?:(?:(?:19|20)\\d{2})|(?:\\b\\d{2}\\b))\n",
    "    )\n",
    "    \"\"\"\n",
    "    \n",
    "    df = df.str.strip()\n",
    "    df = df.str.extractall(date_pattern, flags=re.VERBOSE)\n",
    "    \n",
    "    # Group by index level 0 and keep first occurrence\n",
    "    df = df.groupby(level=0).first()\n",
    "    df = df.rename(columns = {0: 'text'})\n",
    "    \n",
    "    # Noticed that indexes 298 and 313 has date mispeling. I will fix it manually.\n",
    "    df.at[298, 'text'] = 'January 1993'\n",
    "    df.at[313, 'text'] = 'December 1978'\n",
    "    \n",
    "    # Adding '19' to date's year in format <xx/xx/yy>. Ex.: 05/12/56 -> 05/12/1956 \n",
    "    df.loc[df['text'].str.contains(r'^\\d{1,2}[/-]\\d{1,2}[/-]\\d{2}$'), 'text'] = df.loc[df['text'].str.contains(r'^\\d{1,2}[/-]\\d{1,2}[/-]\\d{2}$'), 'text'].map(lambda x: x[0:-2] + '19' + x[-2:])\n",
    "    \n",
    "    # Casting to Date\n",
    "    df['DateTime'] = pd.to_datetime(df['text'])\n",
    "    df = df.sort_index()\n",
    "    df = df.sort_values('DateTime', ascending=True, kind='stable')\n",
    "    \n",
    "    order = pd.Series(df.index)\n",
    "    return order"
   ]
  },
  {
   "cell_type": "code",
   "execution_count": null,
   "metadata": {
    "deletable": false,
    "editable": false,
    "nbgrader": {
     "cell_type": "code",
     "checksum": "c0843c1f0ad2aaa45fa9ac4012f1aa43",
     "grade": true,
     "grade_id": "cell-373f878879c00996",
     "locked": true,
     "points": 4,
     "schema_version": 3,
     "solution": false,
     "task": false
    }
   },
   "outputs": [],
   "source": []
  },
  {
   "cell_type": "code",
   "execution_count": null,
   "metadata": {
    "deletable": false,
    "editable": false,
    "nbgrader": {
     "cell_type": "code",
     "checksum": "0e2f5bb6bab79c07a81ec366c46c4d49",
     "grade": true,
     "grade_id": "cell-0ebae76e6cd794be",
     "locked": true,
     "points": 1,
     "schema_version": 3,
     "solution": false,
     "task": false
    }
   },
   "outputs": [],
   "source": []
  }
 ],
 "metadata": {
  "coursera": {
   "course_slug": "python-text-mining",
   "graded_item_id": "LvcWI",
   "launcher_item_id": "krne9",
   "part_id": "Mkp1I"
  },
  "kernelspec": {
   "display_name": "Python 3 (ipykernel)",
   "language": "python",
   "name": "python3"
  },
  "language_info": {
   "codemirror_mode": {
    "name": "ipython",
    "version": 3
   },
   "file_extension": ".py",
   "mimetype": "text/x-python",
   "name": "python",
   "nbconvert_exporter": "python",
   "pygments_lexer": "ipython3",
   "version": "3.9.13"
  },
  "vscode": {
   "interpreter": {
    "hash": "aee8b7b246df8f9039afb4144a1f6fd8d2ca17a180786b69acc140d282b71a49"
   }
  }
 },
 "nbformat": 4,
 "nbformat_minor": 4
}
